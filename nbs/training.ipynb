{
 "cells": [
  {
   "cell_type": "code",
   "execution_count": 3,
   "id": "a6cfe667-b24d-4a6d-854c-423c50afa4c9",
   "metadata": {},
   "outputs": [
    {
     "name": "stderr",
     "output_type": "stream",
     "text": [
      "/tmp/ipykernel_419929/3122187840.py:5: FutureWarning: You are using `torch.load` with `weights_only=False` (the current default value), which uses the default pickle module implicitly. It is possible to construct malicious pickle data which will execute arbitrary code during unpickling (See https://github.com/pytorch/pytorch/blob/main/SECURITY.md#untrusted-models for more details). In a future release, the default value for `weights_only` will be flipped to `True`. This limits the functions that could be executed during unpickling. Arbitrary objects will no longer be allowed to be loaded via this mode unless they are explicitly allowlisted by the user via `torch.serialization.add_safe_globals`. We recommend you start setting `weights_only=True` for any use case where you don't have full control of the loaded file. Please open an issue on GitHub for any issues related to this experimental feature.\n",
      "  dataset = torch.load(\"./datasets/dataset_60k_window20k_L4_scaling3_diff.pth\")\n"
     ]
    }
   ],
   "source": [
    "import torch\n",
    "import numpy as np\n",
    "from torch.utils.data import DataLoader\n",
    "\n",
    "dataset = torch.load(\"./datasets/dataset_60k_window20k_L4_scaling3_diff.pth\")"
   ]
  },
  {
   "cell_type": "code",
   "execution_count": 4,
   "id": "33097745-6105-462d-aeee-0cd0f364dc6c",
   "metadata": {},
   "outputs": [],
   "source": [
    "dataset = [(torch.tensor(X, dtype=torch.float32), torch.tensor(y, dtype=torch.float32)) for X, y in dataset]\n",
    "np.random.shuffle(dataset)\n",
    "\n",
    "train_dl = DataLoader(dataset[:int(len(dataset)*0.8)], batch_size=32, shuffle=True)\n",
    "test_dl = DataLoader(dataset[int(len(dataset)*0.8):], batch_size=32, shuffle=True)"
   ]
  },
  {
   "cell_type": "code",
   "execution_count": 4,
   "id": "4de43c1a-c5f9-47e6-8574-5d87f7cd7393",
   "metadata": {},
   "outputs": [],
   "source": []
  },
  {
   "cell_type": "code",
   "execution_count": 5,
   "id": "1a4f8da3-0004-4a1c-a2a4-5263e8da9bd7",
   "metadata": {},
   "outputs": [
    {
     "data": {
      "text/plain": [
       "True"
      ]
     },
     "execution_count": 5,
     "metadata": {},
     "output_type": "execute_result"
    }
   ],
   "source": [
    "torch.cuda.is_available()"
   ]
  },
  {
   "cell_type": "code",
   "execution_count": 6,
   "id": "3576d839-a8e8-4e0a-8d8e-63e00bffdd3a",
   "metadata": {},
   "outputs": [
    {
     "name": "stderr",
     "output_type": "stream",
     "text": [
      "/home/ubuntu/miniconda/envs/aTMi/lib/python3.9/site-packages/x_transformers/x_transformers.py:507: FutureWarning: `torch.cuda.amp.autocast(args...)` is deprecated. Please use `torch.amp.autocast('cuda', args...)` instead.\n",
      "  @autocast(enabled = False)\n",
      "/home/ubuntu/miniconda/envs/aTMi/lib/python3.9/site-packages/x_transformers/x_transformers.py:531: FutureWarning: `torch.cuda.amp.autocast(args...)` is deprecated. Please use `torch.amp.autocast('cuda', args...)` instead.\n",
      "  @autocast(enabled = False)\n"
     ]
    }
   ],
   "source": [
    "from aTMi.model import CoalescenceTransformer, num_params\n",
    "from aTMi.training import train_model, test_model"
   ]
  },
  {
   "cell_type": "code",
   "execution_count": 7,
   "id": "4f77209b-3215-404b-888d-26841c7ee615",
   "metadata": {},
   "outputs": [],
   "source": [
    "import torch.nn as nn\n",
    "from x_transformers import Encoder\n",
    "\n",
    "class CoalescenceTransformer(nn.Module):\n",
    "    def __init__(self, seq_len, enc_dim, enc_depth,\n",
    "                 enc_heads, in_dim, out_dim, sum_encoder_dim=True):\n",
    "        super().__init__()\n",
    "        self.sum_encoder_dim = sum_encoder_dim\n",
    "        self.inp = nn.Linear(in_dim, enc_dim)\n",
    "        self.encoder = Encoder(\n",
    "            dim=enc_dim, depth=enc_depth,\n",
    "            heads=enc_heads,ff_glu=True,\n",
    "            residual_attn=True,\n",
    "            rotary_pos_emb=True)\n",
    "        self.out = nn.Linear(enc_dim, out_dim)\n",
    "    def forward(self, x):\n",
    "        x = self.inp(x)\n",
    "        x = self.encoder(x)\n",
    "        if self.sum_encoder_dim: x = x.sum(dim=1)\n",
    "        return self.out(x)"
   ]
  },
  {
   "cell_type": "code",
   "execution_count": 8,
   "id": "0f7b8241-594f-4c91-82de-5f7a3a88ae73",
   "metadata": {},
   "outputs": [
    {
     "name": "stdout",
     "output_type": "stream",
     "text": [
      "Num. model params.: 53589034.\n"
     ]
    }
   ],
   "source": [
    "few_params = {\n",
    "    'seq_len': None,\n",
    "    'enc_dim': 512,\n",
    "    'enc_depth': 12, \n",
    "    'enc_heads': 10, \n",
    "    'in_dim': 42,\n",
    "    'out_dim': 42\n",
    "}\n",
    "\n",
    "model = CoalescenceTransformer(**few_params)\n",
    "print(f'Num. model params.: {num_params(model)}.')\n",
    "device = torch.device(\"cuda\")\n",
    "model = model.to(device)"
   ]
  },
  {
   "cell_type": "code",
   "execution_count": 9,
   "id": "20bfd51d-0fd1-43b4-8834-b4754c4259fb",
   "metadata": {},
   "outputs": [
    {
     "name": "stderr",
     "output_type": "stream",
     "text": [
      "/home/ubuntu/miniconda/envs/aTMi/lib/python3.9/site-packages/tqdm/auto.py:21: TqdmWarning: IProgress not found. Please update jupyter and ipywidgets. See https://ipywidgets.readthedocs.io/en/stable/user_install.html\n",
      "  from .autonotebook import tqdm as notebook_tqdm\n",
      "Detected kernel version 5.4.0, which is below the recommended minimum of 5.5.0; this can cause the process to hang. It is recommended to upgrade the kernel to the minimum version or higher.\n"
     ]
    }
   ],
   "source": [
    "import torch.nn as nn\n",
    "import torch.optim as optim\n",
    "from accelerate import Accelerator\n",
    "\n",
    "\n",
    "accelerator = Accelerator(mixed_precision='bf16', gradient_accumulation_steps=12) \n",
    "criterion = nn.MSELoss()"
   ]
  },
  {
   "cell_type": "code",
   "execution_count": 10,
   "id": "a9b00f85-ce20-4e52-86a7-23b4b04d4cc0",
   "metadata": {},
   "outputs": [],
   "source": [
    "import logging\n",
    "\n",
    "def setup_logging(file:str):\n",
    "    logger = logging.getLogger()\n",
    "    logger.setLevel(logging.INFO)\n",
    "    file_handler = logging.FileHandler(file)\n",
    "    file_handler.setLevel(logging.INFO)\n",
    "    stream_handler = logging.StreamHandler()\n",
    "    stream_handler.setLevel(logging.INFO)\n",
    "    formatter = logging.Formatter('%(message)s')\n",
    "    file_handler.setFormatter(formatter)\n",
    "    stream_handler.setFormatter(formatter)\n",
    "    logger.addHandler(file_handler)\n",
    "    logger.addHandler(stream_handler)\n",
    "\n",
    "\n",
    "setup_logging(file='./logs/training_dataset_60k_window20k_L4_scaling3_diff.log')"
   ]
  },
  {
   "cell_type": "code",
   "execution_count": null,
   "id": "63fed196-0b5d-47c1-9829-b02e02e0cdd9",
   "metadata": {},
   "outputs": [],
   "source": []
  },
  {
   "cell_type": "code",
   "execution_count": 11,
   "id": "98c5ce39-a76e-4858-9a55-9d1c4680a3c8",
   "metadata": {},
   "outputs": [],
   "source": [
    "learning_rate = 1e-5\n",
    "optimizer = optim.AdamW(model.parameters(), lr=learning_rate)\n",
    "\n",
    "model, optimizer, train_dl, test_dl = accelerator.prepare(\n",
    "    model, optimizer, train_dl, test_dl\n",
    ")"
   ]
  },
  {
   "cell_type": "code",
   "execution_count": 12,
   "id": "304b9b1d-3245-493e-818f-facb354c659b",
   "metadata": {},
   "outputs": [
    {
     "name": "stdout",
     "output_type": "stream",
     "text": [
      "0\n"
     ]
    },
    {
     "name": "stderr",
     "output_type": "stream",
     "text": [
      "Epoch 1/1: 100%|█████████████████████████████████████| 1500/1500 [01:35<00:00, 15.76batch/s, loss=0.3837]\n",
      "train,1,1.8094\n"
     ]
    },
    {
     "name": "stdout",
     "output_type": "stream",
     "text": [
      "Epoch [1/1], Avg. Loss: 1.8094\n"
     ]
    },
    {
     "name": "stderr",
     "output_type": "stream",
     "text": [
      "Epoch 1/1: 100%|███████████████████████████████████████| 375/375 [00:07<00:00, 50.45batch/s, loss=0.3880]\n",
      "test,1,0.4091\n"
     ]
    },
    {
     "name": "stdout",
     "output_type": "stream",
     "text": [
      "Epoch [1/1], Avg. Loss: 0.4091\n",
      "1\n"
     ]
    },
    {
     "name": "stderr",
     "output_type": "stream",
     "text": [
      "Epoch 1/1: 100%|█████████████████████████████████████| 1500/1500 [01:31<00:00, 16.39batch/s, loss=0.3247]\n",
      "train,1,0.4144\n"
     ]
    },
    {
     "name": "stdout",
     "output_type": "stream",
     "text": [
      "Epoch [1/1], Avg. Loss: 0.4144\n"
     ]
    },
    {
     "name": "stderr",
     "output_type": "stream",
     "text": [
      "Epoch 1/1: 100%|███████████████████████████████████████| 375/375 [00:07<00:00, 50.13batch/s, loss=0.4987]\n",
      "test,1,0.4442\n"
     ]
    },
    {
     "name": "stdout",
     "output_type": "stream",
     "text": [
      "Epoch [1/1], Avg. Loss: 0.4442\n",
      "2\n"
     ]
    },
    {
     "name": "stderr",
     "output_type": "stream",
     "text": [
      "Epoch 1/1: 100%|█████████████████████████████████████| 1500/1500 [01:31<00:00, 16.44batch/s, loss=0.4344]\n",
      "train,1,0.3919\n"
     ]
    },
    {
     "name": "stdout",
     "output_type": "stream",
     "text": [
      "Epoch [1/1], Avg. Loss: 0.3919\n"
     ]
    },
    {
     "name": "stderr",
     "output_type": "stream",
     "text": [
      "Epoch 1/1: 100%|███████████████████████████████████████| 375/375 [00:07<00:00, 50.39batch/s, loss=0.3136]\n",
      "test,1,0.3895\n"
     ]
    },
    {
     "name": "stdout",
     "output_type": "stream",
     "text": [
      "Epoch [1/1], Avg. Loss: 0.3895\n",
      "3\n"
     ]
    },
    {
     "name": "stderr",
     "output_type": "stream",
     "text": [
      "Epoch 1/1: 100%|█████████████████████████████████████| 1500/1500 [01:36<00:00, 15.49batch/s, loss=0.3803]\n",
      "train,1,0.3770\n"
     ]
    },
    {
     "name": "stdout",
     "output_type": "stream",
     "text": [
      "Epoch [1/1], Avg. Loss: 0.3770\n"
     ]
    },
    {
     "name": "stderr",
     "output_type": "stream",
     "text": [
      "Epoch 1/1: 100%|███████████████████████████████████████| 375/375 [00:07<00:00, 49.56batch/s, loss=0.4042]\n",
      "test,1,0.3945\n"
     ]
    },
    {
     "name": "stdout",
     "output_type": "stream",
     "text": [
      "Epoch [1/1], Avg. Loss: 0.3945\n",
      "4\n"
     ]
    },
    {
     "name": "stderr",
     "output_type": "stream",
     "text": [
      "Epoch 1/1: 100%|█████████████████████████████████████| 1500/1500 [01:32<00:00, 16.16batch/s, loss=0.3126]\n",
      "train,1,0.3652\n"
     ]
    },
    {
     "name": "stdout",
     "output_type": "stream",
     "text": [
      "Epoch [1/1], Avg. Loss: 0.3652\n"
     ]
    },
    {
     "name": "stderr",
     "output_type": "stream",
     "text": [
      "Epoch 1/1: 100%|███████████████████████████████████████| 375/375 [00:07<00:00, 48.64batch/s, loss=0.4197]\n",
      "test,1,0.3776\n"
     ]
    },
    {
     "name": "stdout",
     "output_type": "stream",
     "text": [
      "Epoch [1/1], Avg. Loss: 0.3776\n",
      "5\n"
     ]
    },
    {
     "name": "stderr",
     "output_type": "stream",
     "text": [
      "Epoch 1/1: 100%|█████████████████████████████████████| 1500/1500 [01:29<00:00, 16.75batch/s, loss=0.3678]\n",
      "train,1,0.3501\n"
     ]
    },
    {
     "name": "stdout",
     "output_type": "stream",
     "text": [
      "Epoch [1/1], Avg. Loss: 0.3501\n"
     ]
    },
    {
     "name": "stderr",
     "output_type": "stream",
     "text": [
      "Epoch 1/1: 100%|███████████████████████████████████████| 375/375 [00:07<00:00, 50.19batch/s, loss=0.4072]\n",
      "test,1,0.3559\n"
     ]
    },
    {
     "name": "stdout",
     "output_type": "stream",
     "text": [
      "Epoch [1/1], Avg. Loss: 0.3559\n",
      "6\n"
     ]
    },
    {
     "name": "stderr",
     "output_type": "stream",
     "text": [
      "Epoch 1/1: 100%|█████████████████████████████████████| 1500/1500 [01:31<00:00, 16.47batch/s, loss=0.4062]\n",
      "train,1,0.3464\n"
     ]
    },
    {
     "name": "stdout",
     "output_type": "stream",
     "text": [
      "Epoch [1/1], Avg. Loss: 0.3464\n"
     ]
    },
    {
     "name": "stderr",
     "output_type": "stream",
     "text": [
      "Epoch 1/1: 100%|███████████████████████████████████████| 375/375 [00:07<00:00, 50.20batch/s, loss=0.3444]\n",
      "test,1,0.3367\n"
     ]
    },
    {
     "name": "stdout",
     "output_type": "stream",
     "text": [
      "Epoch [1/1], Avg. Loss: 0.3367\n",
      "7\n"
     ]
    },
    {
     "name": "stderr",
     "output_type": "stream",
     "text": [
      "Epoch 1/1: 100%|█████████████████████████████████████| 1500/1500 [01:30<00:00, 16.58batch/s, loss=0.3250]\n",
      "train,1,0.3365\n"
     ]
    },
    {
     "name": "stdout",
     "output_type": "stream",
     "text": [
      "Epoch [1/1], Avg. Loss: 0.3365\n"
     ]
    },
    {
     "name": "stderr",
     "output_type": "stream",
     "text": [
      "Epoch 1/1: 100%|███████████████████████████████████████| 375/375 [00:07<00:00, 49.95batch/s, loss=0.3683]\n",
      "test,1,0.3543\n"
     ]
    },
    {
     "name": "stdout",
     "output_type": "stream",
     "text": [
      "Epoch [1/1], Avg. Loss: 0.3543\n",
      "8\n"
     ]
    },
    {
     "name": "stderr",
     "output_type": "stream",
     "text": [
      "Epoch 1/1: 100%|█████████████████████████████████████| 1500/1500 [01:31<00:00, 16.45batch/s, loss=0.3624]\n",
      "train,1,0.3305\n"
     ]
    },
    {
     "name": "stdout",
     "output_type": "stream",
     "text": [
      "Epoch [1/1], Avg. Loss: 0.3305\n"
     ]
    },
    {
     "name": "stderr",
     "output_type": "stream",
     "text": [
      "Epoch 1/1: 100%|███████████████████████████████████████| 375/375 [00:07<00:00, 50.11batch/s, loss=0.2461]\n",
      "test,1,0.3067\n"
     ]
    },
    {
     "name": "stdout",
     "output_type": "stream",
     "text": [
      "Epoch [1/1], Avg. Loss: 0.3067\n",
      "9\n"
     ]
    },
    {
     "name": "stderr",
     "output_type": "stream",
     "text": [
      "Epoch 1/1:  57%|█████████████████████▊                | 861/1500 [00:47<00:38, 16.47batch/s, loss=0.2936]IOPub message rate exceeded.\n",
      "The Jupyter server will temporarily stop sending output\n",
      "to the client in order to avoid crashing it.\n",
      "To change this limit, set the config variable\n",
      "`--ServerApp.iopub_msg_rate_limit`.\n",
      "\n",
      "Current values:\n",
      "ServerApp.iopub_msg_rate_limit=1000.0 (msgs/sec)\n",
      "ServerApp.rate_limit_window=3.0 (secs)\n",
      "\n"
     ]
    }
   ],
   "source": [
    "for i in range(0, 10):    \n",
    "    print(i)\n",
    "    train_model(model, train_dl, criterion, optimizer, device=device, accelerator=accelerator)\n",
    "    test_model(model, test_dl, criterion, device=device)    "
   ]
  },
  {
   "cell_type": "code",
   "execution_count": 13,
   "id": "17f65e94-647d-465d-9734-7ba78b23359e",
   "metadata": {},
   "outputs": [
    {
     "name": "stdout",
     "output_type": "stream",
     "text": [
      "10\n"
     ]
    },
    {
     "name": "stderr",
     "output_type": "stream",
     "text": [
      "Epoch 1/1: 100%|█████████████████████████████████████| 1500/1500 [01:32<00:00, 16.13batch/s, loss=0.3039]\n",
      "train,1,0.3171\n"
     ]
    },
    {
     "name": "stdout",
     "output_type": "stream",
     "text": [
      "Epoch [1/1], Avg. Loss: 0.3171\n"
     ]
    },
    {
     "name": "stderr",
     "output_type": "stream",
     "text": [
      "Epoch 1/1: 100%|███████████████████████████████████████| 375/375 [00:07<00:00, 50.12batch/s, loss=0.2441]\n",
      "test,1,0.3040\n"
     ]
    },
    {
     "name": "stdout",
     "output_type": "stream",
     "text": [
      "Epoch [1/1], Avg. Loss: 0.3040\n",
      "11\n"
     ]
    },
    {
     "name": "stderr",
     "output_type": "stream",
     "text": [
      "Epoch 1/1:  17%|██████▌                               | 257/1500 [00:14<01:05, 19.00batch/s, loss=0.3354]IOPub message rate exceeded.\n",
      "The Jupyter server will temporarily stop sending output\n",
      "to the client in order to avoid crashing it.\n",
      "To change this limit, set the config variable\n",
      "`--ServerApp.iopub_msg_rate_limit`.\n",
      "\n",
      "Current values:\n",
      "ServerApp.iopub_msg_rate_limit=1000.0 (msgs/sec)\n",
      "ServerApp.rate_limit_window=3.0 (secs)\n",
      "\n"
     ]
    }
   ],
   "source": [
    "for i in range(10, 25):    \n",
    "    print(i)\n",
    "    train_model(model, train_dl, criterion, optimizer, device=device, accelerator=accelerator)\n",
    "    test_model(model, test_dl, criterion, device=device)    "
   ]
  },
  {
   "cell_type": "code",
   "execution_count": 14,
   "id": "635801da-e078-4837-a9fc-c784fde78bc3",
   "metadata": {},
   "outputs": [
    {
     "name": "stdout",
     "output_type": "stream",
     "text": [
      "25\n"
     ]
    },
    {
     "name": "stderr",
     "output_type": "stream",
     "text": [
      "Epoch 1/1: 100%|█████████████████████████████████████| 1500/1500 [01:30<00:00, 16.58batch/s, loss=0.2799]\n",
      "train,1,0.2759\n"
     ]
    },
    {
     "name": "stdout",
     "output_type": "stream",
     "text": [
      "Epoch [1/1], Avg. Loss: 0.2759\n"
     ]
    },
    {
     "name": "stderr",
     "output_type": "stream",
     "text": [
      "Epoch 1/1: 100%|███████████████████████████████████████| 375/375 [00:07<00:00, 50.45batch/s, loss=0.2652]\n",
      "test,1,0.2765\n"
     ]
    },
    {
     "name": "stdout",
     "output_type": "stream",
     "text": [
      "Epoch [1/1], Avg. Loss: 0.2765\n",
      "26\n"
     ]
    },
    {
     "name": "stderr",
     "output_type": "stream",
     "text": [
      "Epoch 1/1:  18%|██████▊                               | 270/1500 [00:14<00:56, 21.58batch/s, loss=0.3017]IOPub message rate exceeded.\n",
      "The Jupyter server will temporarily stop sending output\n",
      "to the client in order to avoid crashing it.\n",
      "To change this limit, set the config variable\n",
      "`--ServerApp.iopub_msg_rate_limit`.\n",
      "\n",
      "Current values:\n",
      "ServerApp.iopub_msg_rate_limit=1000.0 (msgs/sec)\n",
      "ServerApp.rate_limit_window=3.0 (secs)\n",
      "\n"
     ]
    }
   ],
   "source": [
    "for epoch in range(25, 30):    \n",
    "    print(epoch)\n",
    "    train_model(model, train_dl, criterion, optimizer, device=device, accelerator=accelerator)\n",
    "    test_model(model, test_dl, criterion, device=device)    \n",
    "\n",
    "    unwrapped_model = accelerator.unwrap_model(model)\n",
    "    accelerator.save({\n",
    "        \"model\": unwrapped_model.state_dict(),\n",
    "        \"optimizer\": optimizer.optimizer.state_dict() \n",
    "\n",
    "    }, \"./models/model-dataset_60k_window20k_L4_scaling3_diff_checkpoint_\" + str(epoch+1) + \".pth\")"
   ]
  },
  {
   "cell_type": "code",
   "execution_count": 15,
   "id": "26a870c1-5c1a-46b9-b1fd-7fbcb706bd45",
   "metadata": {},
   "outputs": [
    {
     "name": "stdout",
     "output_type": "stream",
     "text": [
      "30\n"
     ]
    },
    {
     "name": "stderr",
     "output_type": "stream",
     "text": [
      "Epoch 1/1: 100%|█████████████████████████████████████| 1500/1500 [01:30<00:00, 16.58batch/s, loss=0.2375]\n",
      "train,1,0.2691\n"
     ]
    },
    {
     "name": "stdout",
     "output_type": "stream",
     "text": [
      "Epoch [1/1], Avg. Loss: 0.2691\n"
     ]
    },
    {
     "name": "stderr",
     "output_type": "stream",
     "text": [
      "Epoch 1/1: 100%|███████████████████████████████████████| 375/375 [00:07<00:00, 50.52batch/s, loss=0.2406]\n",
      "test,1,0.2742\n"
     ]
    },
    {
     "name": "stdout",
     "output_type": "stream",
     "text": [
      "Epoch [1/1], Avg. Loss: 0.2742\n",
      "31\n"
     ]
    },
    {
     "name": "stderr",
     "output_type": "stream",
     "text": [
      "Epoch 1/1: 100%|█████████████████████████████████████| 1500/1500 [01:30<00:00, 16.60batch/s, loss=0.2734]\n",
      "train,1,0.2675\n"
     ]
    },
    {
     "name": "stdout",
     "output_type": "stream",
     "text": [
      "Epoch [1/1], Avg. Loss: 0.2675\n"
     ]
    },
    {
     "name": "stderr",
     "output_type": "stream",
     "text": [
      "Epoch 1/1: 100%|███████████████████████████████████████| 375/375 [00:07<00:00, 50.83batch/s, loss=0.2681]\n",
      "test,1,0.2677\n"
     ]
    },
    {
     "name": "stdout",
     "output_type": "stream",
     "text": [
      "Epoch [1/1], Avg. Loss: 0.2677\n",
      "32\n"
     ]
    },
    {
     "name": "stderr",
     "output_type": "stream",
     "text": [
      "Epoch 1/1: 100%|█████████████████████████████████████| 1500/1500 [01:27<00:00, 17.13batch/s, loss=0.2631]\n",
      "train,1,0.2668\n"
     ]
    },
    {
     "name": "stdout",
     "output_type": "stream",
     "text": [
      "Epoch [1/1], Avg. Loss: 0.2668\n"
     ]
    },
    {
     "name": "stderr",
     "output_type": "stream",
     "text": [
      "Epoch 1/1: 100%|███████████████████████████████████████| 375/375 [00:07<00:00, 49.88batch/s, loss=0.2579]\n",
      "test,1,0.2588\n"
     ]
    },
    {
     "name": "stdout",
     "output_type": "stream",
     "text": [
      "Epoch [1/1], Avg. Loss: 0.2588\n",
      "33\n"
     ]
    },
    {
     "name": "stderr",
     "output_type": "stream",
     "text": [
      "Epoch 1/1: 100%|█████████████████████████████████████| 1500/1500 [01:29<00:00, 16.67batch/s, loss=0.2040]\n",
      "train,1,0.2654\n"
     ]
    },
    {
     "name": "stdout",
     "output_type": "stream",
     "text": [
      "Epoch [1/1], Avg. Loss: 0.2654\n"
     ]
    },
    {
     "name": "stderr",
     "output_type": "stream",
     "text": [
      "Epoch 1/1: 100%|███████████████████████████████████████| 375/375 [00:07<00:00, 50.87batch/s, loss=0.2941]\n",
      "test,1,0.2703\n"
     ]
    },
    {
     "name": "stdout",
     "output_type": "stream",
     "text": [
      "Epoch [1/1], Avg. Loss: 0.2703\n",
      "34\n"
     ]
    },
    {
     "name": "stderr",
     "output_type": "stream",
     "text": [
      "Epoch 1/1: 100%|█████████████████████████████████████| 1500/1500 [01:30<00:00, 16.66batch/s, loss=0.2402]\n",
      "train,1,0.2644\n"
     ]
    },
    {
     "name": "stdout",
     "output_type": "stream",
     "text": [
      "Epoch [1/1], Avg. Loss: 0.2644\n"
     ]
    },
    {
     "name": "stderr",
     "output_type": "stream",
     "text": [
      "Epoch 1/1: 100%|███████████████████████████████████████| 375/375 [00:07<00:00, 49.16batch/s, loss=0.2337]\n",
      "test,1,0.2683\n"
     ]
    },
    {
     "name": "stdout",
     "output_type": "stream",
     "text": [
      "Epoch [1/1], Avg. Loss: 0.2683\n",
      "35\n"
     ]
    },
    {
     "name": "stderr",
     "output_type": "stream",
     "text": [
      "Epoch 1/1: 100%|█████████████████████████████████████| 1500/1500 [01:28<00:00, 16.97batch/s, loss=0.3001]\n",
      "train,1,0.2636\n"
     ]
    },
    {
     "name": "stdout",
     "output_type": "stream",
     "text": [
      "Epoch [1/1], Avg. Loss: 0.2636\n"
     ]
    },
    {
     "name": "stderr",
     "output_type": "stream",
     "text": [
      "Epoch 1/1: 100%|███████████████████████████████████████| 375/375 [00:07<00:00, 50.31batch/s, loss=0.3051]\n",
      "test,1,0.2726\n"
     ]
    },
    {
     "name": "stdout",
     "output_type": "stream",
     "text": [
      "Epoch [1/1], Avg. Loss: 0.2726\n",
      "36\n"
     ]
    },
    {
     "name": "stderr",
     "output_type": "stream",
     "text": [
      "Epoch 1/1: 100%|█████████████████████████████████████| 1500/1500 [01:36<00:00, 15.47batch/s, loss=0.2282]\n",
      "train,1,0.2613\n"
     ]
    },
    {
     "name": "stdout",
     "output_type": "stream",
     "text": [
      "Epoch [1/1], Avg. Loss: 0.2613\n"
     ]
    },
    {
     "name": "stderr",
     "output_type": "stream",
     "text": [
      "Epoch 1/1: 100%|███████████████████████████████████████| 375/375 [00:07<00:00, 48.22batch/s, loss=0.2317]\n",
      "test,1,0.2627\n"
     ]
    },
    {
     "name": "stdout",
     "output_type": "stream",
     "text": [
      "Epoch [1/1], Avg. Loss: 0.2627\n",
      "37\n"
     ]
    },
    {
     "name": "stderr",
     "output_type": "stream",
     "text": [
      "Epoch 1/1: 100%|█████████████████████████████████████| 1500/1500 [01:35<00:00, 15.67batch/s, loss=0.2498]\n",
      "train,1,0.2614\n"
     ]
    },
    {
     "name": "stdout",
     "output_type": "stream",
     "text": [
      "Epoch [1/1], Avg. Loss: 0.2614\n"
     ]
    },
    {
     "name": "stderr",
     "output_type": "stream",
     "text": [
      "Epoch 1/1: 100%|███████████████████████████████████████| 375/375 [00:07<00:00, 49.90batch/s, loss=0.2633]\n",
      "test,1,0.2614\n"
     ]
    },
    {
     "name": "stdout",
     "output_type": "stream",
     "text": [
      "Epoch [1/1], Avg. Loss: 0.2614\n",
      "38\n"
     ]
    },
    {
     "name": "stderr",
     "output_type": "stream",
     "text": [
      "Epoch 1/1: 100%|█████████████████████████████████████| 1500/1500 [01:33<00:00, 16.07batch/s, loss=0.2477]\n",
      "train,1,0.2597\n"
     ]
    },
    {
     "name": "stdout",
     "output_type": "stream",
     "text": [
      "Epoch [1/1], Avg. Loss: 0.2597\n"
     ]
    },
    {
     "name": "stderr",
     "output_type": "stream",
     "text": [
      "Epoch 1/1: 100%|███████████████████████████████████████| 375/375 [00:07<00:00, 50.03batch/s, loss=0.2689]\n",
      "test,1,0.2637\n"
     ]
    },
    {
     "name": "stdout",
     "output_type": "stream",
     "text": [
      "Epoch [1/1], Avg. Loss: 0.2637\n",
      "39\n"
     ]
    },
    {
     "name": "stderr",
     "output_type": "stream",
     "text": [
      "Epoch 1/1: 100%|█████████████████████████████████████| 1500/1500 [01:35<00:00, 15.70batch/s, loss=0.2704]\n",
      "train,1,0.2588\n"
     ]
    },
    {
     "name": "stdout",
     "output_type": "stream",
     "text": [
      "Epoch [1/1], Avg. Loss: 0.2588\n"
     ]
    },
    {
     "name": "stderr",
     "output_type": "stream",
     "text": [
      "Epoch 1/1: 100%|███████████████████████████████████████| 375/375 [00:07<00:00, 50.07batch/s, loss=0.2594]\n",
      "test,1,0.2721\n"
     ]
    },
    {
     "name": "stdout",
     "output_type": "stream",
     "text": [
      "Epoch [1/1], Avg. Loss: 0.2721\n",
      "40\n"
     ]
    },
    {
     "name": "stderr",
     "output_type": "stream",
     "text": [
      "Epoch 1/1: 100%|█████████████████████████████████████| 1500/1500 [01:34<00:00, 15.89batch/s, loss=0.2674]\n",
      "train,1,0.2577\n"
     ]
    },
    {
     "name": "stdout",
     "output_type": "stream",
     "text": [
      "Epoch [1/1], Avg. Loss: 0.2577\n"
     ]
    },
    {
     "name": "stderr",
     "output_type": "stream",
     "text": [
      "Epoch 1/1: 100%|███████████████████████████████████████| 375/375 [00:07<00:00, 48.99batch/s, loss=0.3131]\n",
      "test,1,0.2647\n"
     ]
    },
    {
     "name": "stdout",
     "output_type": "stream",
     "text": [
      "Epoch [1/1], Avg. Loss: 0.2647\n",
      "41\n"
     ]
    },
    {
     "name": "stderr",
     "output_type": "stream",
     "text": [
      "Epoch 1/1: 100%|█████████████████████████████████████| 1500/1500 [01:33<00:00, 16.02batch/s, loss=0.2512]\n",
      "train,1,0.2578\n"
     ]
    },
    {
     "name": "stdout",
     "output_type": "stream",
     "text": [
      "Epoch [1/1], Avg. Loss: 0.2578\n"
     ]
    },
    {
     "name": "stderr",
     "output_type": "stream",
     "text": [
      "Epoch 1/1: 100%|███████████████████████████████████████| 375/375 [00:07<00:00, 50.10batch/s, loss=0.2602]\n",
      "test,1,0.2558\n"
     ]
    },
    {
     "name": "stdout",
     "output_type": "stream",
     "text": [
      "Epoch [1/1], Avg. Loss: 0.2558\n",
      "42\n"
     ]
    },
    {
     "name": "stderr",
     "output_type": "stream",
     "text": [
      "Epoch 1/1: 100%|█████████████████████████████████████| 1500/1500 [01:28<00:00, 17.01batch/s, loss=0.2292]\n",
      "train,1,0.2553\n"
     ]
    },
    {
     "name": "stdout",
     "output_type": "stream",
     "text": [
      "Epoch [1/1], Avg. Loss: 0.2553\n"
     ]
    },
    {
     "name": "stderr",
     "output_type": "stream",
     "text": [
      "Epoch 1/1: 100%|███████████████████████████████████████| 375/375 [00:07<00:00, 49.76batch/s, loss=0.2611]\n",
      "test,1,0.2772\n"
     ]
    },
    {
     "name": "stdout",
     "output_type": "stream",
     "text": [
      "Epoch [1/1], Avg. Loss: 0.2772\n",
      "43\n"
     ]
    },
    {
     "name": "stderr",
     "output_type": "stream",
     "text": [
      "Epoch 1/1: 100%|█████████████████████████████████████| 1500/1500 [01:37<00:00, 15.39batch/s, loss=0.1841]\n",
      "train,1,0.2545\n"
     ]
    },
    {
     "name": "stdout",
     "output_type": "stream",
     "text": [
      "Epoch [1/1], Avg. Loss: 0.2545\n"
     ]
    },
    {
     "name": "stderr",
     "output_type": "stream",
     "text": [
      "Epoch 1/1: 100%|███████████████████████████████████████| 375/375 [00:07<00:00, 49.66batch/s, loss=0.2626]\n",
      "test,1,0.2597\n"
     ]
    },
    {
     "name": "stdout",
     "output_type": "stream",
     "text": [
      "Epoch [1/1], Avg. Loss: 0.2597\n",
      "44\n"
     ]
    },
    {
     "name": "stderr",
     "output_type": "stream",
     "text": [
      "Epoch 1/1: 100%|█████████████████████████████████████| 1500/1500 [01:37<00:00, 15.37batch/s, loss=0.2072]\n",
      "train,1,0.2523\n"
     ]
    },
    {
     "name": "stdout",
     "output_type": "stream",
     "text": [
      "Epoch [1/1], Avg. Loss: 0.2523\n"
     ]
    },
    {
     "name": "stderr",
     "output_type": "stream",
     "text": [
      "Epoch 1/1: 100%|███████████████████████████████████████| 375/375 [00:07<00:00, 50.03batch/s, loss=0.2869]\n",
      "test,1,0.2595\n"
     ]
    },
    {
     "name": "stdout",
     "output_type": "stream",
     "text": [
      "Epoch [1/1], Avg. Loss: 0.2595\n",
      "45\n"
     ]
    },
    {
     "name": "stderr",
     "output_type": "stream",
     "text": [
      "Epoch 1/1: 100%|█████████████████████████████████████| 1500/1500 [01:36<00:00, 15.62batch/s, loss=0.2769]\n",
      "train,1,0.2516\n"
     ]
    },
    {
     "name": "stdout",
     "output_type": "stream",
     "text": [
      "Epoch [1/1], Avg. Loss: 0.2516\n"
     ]
    },
    {
     "name": "stderr",
     "output_type": "stream",
     "text": [
      "Epoch 1/1: 100%|███████████████████████████████████████| 375/375 [00:07<00:00, 48.44batch/s, loss=0.2610]\n",
      "test,1,0.2628\n"
     ]
    },
    {
     "name": "stdout",
     "output_type": "stream",
     "text": [
      "Epoch [1/1], Avg. Loss: 0.2628\n",
      "46\n"
     ]
    },
    {
     "name": "stderr",
     "output_type": "stream",
     "text": [
      "Epoch 1/1: 100%|█████████████████████████████████████| 1500/1500 [01:34<00:00, 15.87batch/s, loss=0.2756]\n",
      "train,1,0.2502\n"
     ]
    },
    {
     "name": "stdout",
     "output_type": "stream",
     "text": [
      "Epoch [1/1], Avg. Loss: 0.2502\n"
     ]
    },
    {
     "name": "stderr",
     "output_type": "stream",
     "text": [
      "Epoch 1/1: 100%|███████████████████████████████████████| 375/375 [00:07<00:00, 48.33batch/s, loss=0.2848]\n",
      "test,1,0.2681\n"
     ]
    },
    {
     "name": "stdout",
     "output_type": "stream",
     "text": [
      "Epoch [1/1], Avg. Loss: 0.2681\n",
      "47\n"
     ]
    },
    {
     "name": "stderr",
     "output_type": "stream",
     "text": [
      "Epoch 1/1: 100%|█████████████████████████████████████| 1500/1500 [01:34<00:00, 15.93batch/s, loss=0.2356]\n",
      "train,1,0.2492\n"
     ]
    },
    {
     "name": "stdout",
     "output_type": "stream",
     "text": [
      "Epoch [1/1], Avg. Loss: 0.2492\n"
     ]
    },
    {
     "name": "stderr",
     "output_type": "stream",
     "text": [
      "Epoch 1/1: 100%|███████████████████████████████████████| 375/375 [00:07<00:00, 48.33batch/s, loss=0.2747]\n",
      "test,1,0.2620\n"
     ]
    },
    {
     "name": "stdout",
     "output_type": "stream",
     "text": [
      "Epoch [1/1], Avg. Loss: 0.2620\n",
      "48\n"
     ]
    },
    {
     "name": "stderr",
     "output_type": "stream",
     "text": [
      "Epoch 1/1: 100%|█████████████████████████████████████| 1500/1500 [01:36<00:00, 15.52batch/s, loss=0.2063]\n",
      "train,1,0.2463\n"
     ]
    },
    {
     "name": "stdout",
     "output_type": "stream",
     "text": [
      "Epoch [1/1], Avg. Loss: 0.2463\n"
     ]
    },
    {
     "name": "stderr",
     "output_type": "stream",
     "text": [
      "Epoch 1/1: 100%|███████████████████████████████████████| 375/375 [00:07<00:00, 48.67batch/s, loss=0.2824]\n",
      "test,1,0.2643\n"
     ]
    },
    {
     "name": "stdout",
     "output_type": "stream",
     "text": [
      "Epoch [1/1], Avg. Loss: 0.2643\n",
      "49\n"
     ]
    },
    {
     "name": "stderr",
     "output_type": "stream",
     "text": [
      "Epoch 1/1: 100%|█████████████████████████████████████| 1500/1500 [01:37<00:00, 15.40batch/s, loss=0.2610]\n",
      "train,1,0.2445\n"
     ]
    },
    {
     "name": "stdout",
     "output_type": "stream",
     "text": [
      "Epoch [1/1], Avg. Loss: 0.2445\n"
     ]
    },
    {
     "name": "stderr",
     "output_type": "stream",
     "text": [
      "Epoch 1/1: 100%|███████████████████████████████████████| 375/375 [00:07<00:00, 47.94batch/s, loss=0.2867]\n",
      "test,1,0.2650\n"
     ]
    },
    {
     "name": "stdout",
     "output_type": "stream",
     "text": [
      "Epoch [1/1], Avg. Loss: 0.2650\n"
     ]
    }
   ],
   "source": [
    "for epoch in range(30, 50):    \n",
    "    print(epoch)\n",
    "    train_model(model, train_dl, criterion, optimizer, device=device, accelerator=accelerator)\n",
    "    test_model(model, test_dl, criterion, device=device)    \n",
    "\n",
    "    unwrapped_model = accelerator.unwrap_model(model)\n",
    "    accelerator.save({\n",
    "        \"model\": unwrapped_model.state_dict(),\n",
    "        \"optimizer\": optimizer.optimizer.state_dict() \n",
    "\n",
    "    }, \"./models/model-dataset_60k_window20k_L4_scaling3_diff_checkpoint_\" + str(epoch+1) + \".pth\")"
   ]
  },
  {
   "cell_type": "code",
   "execution_count": null,
   "id": "224f1c29-fe9a-4cea-b000-64cddaaec94b",
   "metadata": {},
   "outputs": [],
   "source": []
  }
 ],
 "metadata": {
  "kernelspec": {
   "display_name": "Python 3 (ipykernel)",
   "language": "python",
   "name": "python3"
  },
  "language_info": {
   "codemirror_mode": {
    "name": "ipython",
    "version": 3
   },
   "file_extension": ".py",
   "mimetype": "text/x-python",
   "name": "python",
   "nbconvert_exporter": "python",
   "pygments_lexer": "ipython3",
   "version": "3.9.18"
  }
 },
 "nbformat": 4,
 "nbformat_minor": 5
}
